{
  "nbformat": 4,
  "nbformat_minor": 0,
  "metadata": {
    "colab": {
      "provenance": [],
      "include_colab_link": true
    },
    "kernelspec": {
      "name": "python3",
      "display_name": "Python 3"
    },
    "language_info": {
      "name": "python"
    }
  },
  "cells": [
    {
      "cell_type": "markdown",
      "metadata": {
        "id": "view-in-github",
        "colab_type": "text"
      },
      "source": [
        "<a href=\"https://colab.research.google.com/github/shridhar12d/Machine-Learning/blob/main/Roadmap2.ipynb\" target=\"_parent\"><img src=\"https://colab.research.google.com/assets/colab-badge.svg\" alt=\"Open In Colab\"/></a>"
      ]
    },
    {
      "cell_type": "markdown",
      "source": [
        "**Roadmap Path Planning Approach**\n",
        "\n"
      ],
      "metadata": {
        "id": "sQVNXxDeUncL"
      }
    },
    {
      "cell_type": "markdown",
      "source": [
        "The roadmap path planning approach is a classical method used to find paths for mobile robots by creating an abstract graph of possible paths through an environment. This method simplifies the navigation by reducing the continuous space into a discrete graph, which can be effectively used to find paths between any two points.\n",
        "\n",
        "**Key Features of Roadmap Path Planning**\n",
        "Simplicity: The environment is represented as a graph or a network of nodes and edges, where nodes represent specific points in the environment, and edges represent possible paths between these points.\n",
        "\n",
        "**Visibility Graphs**: One common type of roadmap is the visibility graph, where nodes are placed at the start, goal, and all obstacle vertices, and edges are created between nodes if the direct path between them does not intersect any obstacles.\n",
        "\n",
        "**Voronoi Diagram**: Another type is based on Voronoi diagrams which decompose the space into regions around points so that each point in a given region is closest to the same node in the environment. Edges in the Voronoi diagram connect nodes whose regions are adjacent.\n",
        "\n",
        "**Probabilistic Roadmaps (PRM)**: This method randomly samples the free space, adds samples as nodes, and attempts to connect them with edges if they are not obstructed by obstacles, forming a network that can be used for multiple path queries."
      ],
      "metadata": {
        "id": "qssYV8sIUw39"
      }
    },
    {
      "cell_type": "code",
      "source": [
        "import matplotlib.pyplot as plt\n",
        "import numpy as np\n",
        "\n",
        "def plot_graph(nodes, edges, path=None):\n",
        "    fig, ax = plt.subplots()\n",
        "    for (x, y) in nodes:\n",
        "        ax.plot(x, y, 'o', color='black')\n",
        "    for (start, end) in edges:\n",
        "        line = plt.Line2D((nodes[start][0], nodes[end][0]), (nodes[start][1], nodes[end][1]), lw=2)\n",
        "        ax.add_line(line)\n",
        "    if path:\n",
        "        for i in range(len(path)-1):\n",
        "            line = plt.Line2D((nodes[path[i]][0], nodes[path[i+1]][0]), (nodes[path[i]][1], nodes[path[i+1]][1]), lw=2, color='red')\n",
        "            ax.add_line(line)\n",
        "    plt.show()\n",
        "\n",
        "\n",
        "nodes = [(1, 2), (3, 4), (5, 6), (7, 8)]\n",
        "edges = [(0, 1), (1, 2), (2, 3)]\n",
        "\n",
        "\n",
        "path = [0, 1, 2, 3]\n",
        "\n",
        "\n",
        "plot_graph(nodes, edges, path)\n"
      ],
      "metadata": {
        "colab": {
          "base_uri": "https://localhost:8080/",
          "height": 430
        },
        "id": "uur57li8U9VV",
        "outputId": "b76cc748-0881-4553-f47a-9a48381caf2a"
      },
      "execution_count": null,
      "outputs": [
        {
          "output_type": "display_data",
          "data": {
            "text/plain": [
              "<Figure size 640x480 with 1 Axes>"
            ],
            "image/png": "[encoded data removed]"
          },
          "metadata": {}
        }
      ]
    },
    {
      "cell_type": "code",
      "source": [],
      "metadata": {
        "id": "rbnQ7fqNU92V"
      },
      "execution_count": null,
      "outputs": []
    },
    {
      "cell_type": "markdown",
      "source": [
        "**Cell Decomposition**\n"
      ],
      "metadata": {
        "id": "_p6J7PHpWHve"
      }
    },
    {
      "cell_type": "markdown",
      "source": [
        "Cell decomposition is another classic method for path planning in which the workspace is divided into manageable cells. Each cell is classified as either free or occupied. There are two main types of cell decomposition:\n",
        "\n",
        "Exact Cell Decomposition: The workspace is divided into non-overlapping cells that completely cover the space without leaving any gaps. Each cell's boundaries correspond exactly to the boundaries of obstacles.\n",
        "\n",
        "Approximate Cell Decomposition: The workspace is divided into a grid of uniform cells, and each cell is marked as free or occupied based on the presence of obstacles."
      ],
      "metadata": {
        "id": "Gd3MZsMDWPjA"
      }
    },
    {
      "cell_type": "code",
      "source": [
        "import matplotlib.pyplot as plt\n",
        "import numpy as np\n",
        "\n",
        "def plot_grid(grid, start, goal, path=None):\n",
        "    fig, ax = plt.subplots()\n",
        "    ax.imshow(grid, cmap='Greys', origin='lower')\n",
        "\n",
        "    ax.plot(start[1], start[0], 'go')\n",
        "    ax.plot(goal[1], goal[0], 'ro')\n",
        "\n",
        "    if path:\n",
        "        for (i, j) in path:\n",
        "            ax.plot(j, i, 'bo')\n",
        "\n",
        "    plt.grid(which='major', color='w', linestyle='-', linewidth=2)\n",
        "    plt.minorticks_on()\n",
        "    plt.grid(which='minor', color='w', linestyle='-', linewidth=1)\n",
        "    plt.show()\n",
        "\n",
        "\n",
        "grid_size = (10, 10)\n",
        "grid = np.zeros(grid_size)\n",
        "\n",
        "grid[3:8, 4] = 1\n",
        "grid[2, 2:5] = 1\n",
        "\n",
        "start = (0, 0)\n",
        "goal = (9, 9)\n",
        "\n",
        "plot_grid(grid, start, goal)\n"
      ],
      "metadata": {
        "colab": {
          "base_uri": "https://localhost:8080/"
        },
        "id": "efZAKmHdWLgU",
        "outputId": "da4a7d70-19e4-4fba-ac7f-335a1f192fe4"
      },
      "execution_count": null,
      "outputs": [
        {
          "output_type": "display_data",
          "data": {
            "text/plain": [
              "<Figure size 640x480 with 1 Axes>"
            ],
            "image/png": "[encoded data removed]"
          },
          "metadata": {}
        }
      ]
    },
    {
      "cell_type": "markdown",
      "source": [
        "**Potential Fields**\n",
        "\n",
        "Potential fields treat the goal as an attractive force pulling the robot towards it, while obstacles exert repulsive forces to push the robot away.\n",
        "\n",
        "Key Concept\n",
        "Attractive Force: Moves the robot towards the goal.\n",
        "Repulsive Force: Moves the robot away from obstacles.\n",
        "Potential Function: Combination of attractive and repulsive forces."
      ],
      "metadata": {
        "id": "G_2w1niPWSnK"
      }
    },
    {
      "cell_type": "code",
      "source": [
        "import heapq\n",
        "\n",
        "def dijkstra(grid, start, goal):\n",
        "    frontier = []\n",
        "    heapq.heappush(frontier, (0, start))\n",
        "    came_from = {}\n",
        "    cost_so_far = {}\n",
        "    came_from[start] = None\n",
        "    cost_so_far[start] = 0\n",
        "\n",
        "    while frontier:\n",
        "        current_cost, current = heapq.heappop(frontier)\n",
        "\n",
        "        if current == goal:\n",
        "            break\n",
        "\n",
        "        for dx, dy in [(-1, 0), (1, 0), (0, -1), (0, 1)]:\n",
        "            next = (current[0] + dx, current[1] + dy)\n",
        "            if 0 <= next[0] < grid.shape[0] and 0 <= next[1] < grid.shape[1] and not grid[next]:\n",
        "                new_cost = current_cost + 1\n",
        "                if next not in cost_so_far or new_cost < cost_so_far[next]:\n",
        "                    cost_so_far[next] = new_cost\n",
        "                    priority = new_cost\n",
        "                    heapq.heappush(frontier, (priority, next))\n",
        "                    came_from[next] = current\n",
        "\n",
        "\n",
        "    current = goal\n",
        "    path = []\n",
        "    while current != start:\n",
        "        path.append(current)\n",
        "        current = came_from[current]\n",
        "    path.append(start)\n",
        "    path.reverse()\n",
        "    return path\n",
        "\n",
        "path = dijkstra(grid, start, goal)\n",
        "plot_grid(grid, start, goal, path)\n"
      ],
      "metadata": {
        "colab": {
          "base_uri": "https://localhost:8080/",
          "height": 430
        },
        "id": "pAIWxSCXWMR9",
        "outputId": "772b9818-23c4-4a97-ec8a-db4f4086d500"
      },
      "execution_count": null,
      "outputs": [
        {
          "output_type": "display_data",
          "data": {
            "text/plain": [
              "<Figure size 640x480 with 1 Axes>"
            ],
            "image/png": "[encoded data removed]"
          },
          "metadata": {}
        }
      ]
    },
    {
      "cell_type": "code",
      "source": [],
      "metadata": {
        "id": "QUfcBHb7WcnC"
      },
      "execution_count": null,
      "outputs": []
    }
  ]
}
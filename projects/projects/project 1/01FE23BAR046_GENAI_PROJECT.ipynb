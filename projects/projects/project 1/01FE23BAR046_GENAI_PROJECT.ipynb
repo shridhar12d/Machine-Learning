{
  "nbformat": 4,
  "nbformat_minor": 0,
  "metadata": {
    "colab": {
      "provenance": []
    },
    "kernelspec": {
      "name": "python3",
      "display_name": "Python 3"
    },
    "language_info": {
      "name": "python"
    }
  },
  "cells": [
    {
      "cell_type": "markdown",
      "source": [
        "INSTALLING THE PACKAGES"
      ],
      "metadata": {
        "id": "kdJCn8qALA3m"
      }
    },
    {
      "cell_type": "code",
      "source": [
        "# Install the ultralytics package\n",
        "pip install ultralytics"
      ],
      "metadata": {
        "id": "fJFg-HLrK_vw"
      },
      "execution_count": null,
      "outputs": []
    },
    {
      "cell_type": "markdown",
      "source": [
        "INSTALLING THE DEPENDENCIES AND REPOSITORY"
      ],
      "metadata": {
        "id": "qUVvZ3MnLYXh"
      }
    },
    {
      "cell_type": "code",
      "source": [
        "# Clone the YOLOv5 repository\n",
        "git clone https://github.com/ultralytics/yolov5\n",
        "\n",
        "# Navigate to the cloned directory\n",
        "cd yolov5\n",
        "\n",
        "# Install required packages\n",
        "pip install -r requirements.txt"
      ],
      "metadata": {
        "id": "ISo7UpVhLemG"
      },
      "execution_count": null,
      "outputs": []
    },
    {
      "cell_type": "markdown",
      "source": [
        "INFERENCE WITH PY-TORCH HUB"
      ],
      "metadata": {
        "id": "e-DmxF0pLg-m"
      }
    },
    {
      "cell_type": "code",
      "source": [
        "import torch\n",
        "\n",
        "# Load a YOLOv5 model (options: yolov5n, yolov5s, yolov5m, yolov5l, yolov5x)\n",
        "model = torch.hub.load(\"ultralytics/yolov5\", \"yolov5s\")  # Default: yolov5s\n",
        "\n",
        "# Define the input image source (URL, local file, PIL image, OpenCV frame, numpy array, or list)\n",
        "img = \"https://ultralytics.com/images/zidane.jpg\"  # Example image\n",
        "\n",
        "# Perform inference (handles batching, resizing, normalization automatically)\n",
        "results = model(img)\n",
        "\n",
        "# Process the results (options: .print(), .show(), .save(), .crop(), .pandas())\n",
        "results.print()  # Print results to console\n",
        "results.show()  # Display results in a window\n",
        "results.save()  # Save results to runs/detect/exp"
      ],
      "metadata": {
        "id": "pL-BBdntKyH7"
      },
      "execution_count": null,
      "outputs": []
    },
    {
      "cell_type": "markdown",
      "source": [
        "INDERENCE WITH detect.py"
      ],
      "metadata": {
        "id": "qpD-QL5OLpTl"
      }
    },
    {
      "cell_type": "code",
      "source": [
        "# Run inference using a webcam\n",
        "python detect.py --weights yolov5s.pt --source 0\n",
        "\n",
        "# Run inference on a local image file\n",
        "python detect.py --weights yolov5s.pt --source img.jpg\n",
        "\n",
        "# Run inference on a local video file\n",
        "python detect.py --weights yolov5s.pt --source vid.mp4\n",
        "\n",
        "# Run inference on a screen capture\n",
        "python detect.py --weights yolov5s.pt --source screen\n",
        "\n",
        "# Run inference on a directory of images\n",
        "python detect.py --weights yolov5s.pt --source path/to/images/\n",
        "\n",
        "# Run inference on a text file listing image paths\n",
        "python detect.py --weights yolov5s.pt --source list.txt\n",
        "\n",
        "# Run inference on a text file listing stream URLs\n",
        "python detect.py --weights yolov5s.pt --source list.streams\n",
        "\n",
        "# Run inference using a glob pattern for images\n",
        "python detect.py --weights yolov5s.pt --source 'path/to/*.jpg'\n",
        "\n",
        "# Run inference on a YouTube video URL\n",
        "python detect.py --weights yolov5s.pt --source 'https://youtu.be/LNwODJXcvt4'\n",
        "\n",
        "# Run inference on an RTSP, RTMP, or HTTP stream\n",
        "python detect.py --weights yolov5s.pt --source 'rtsp://example.com/media.mp4'"
      ],
      "metadata": {
        "id": "Q27sFiwtKy8g"
      },
      "execution_count": null,
      "outputs": []
    },
    {
      "cell_type": "markdown",
      "source": [
        "TRAINING THE MODEL"
      ],
      "metadata": {
        "id": "WwOGSUowLxx7"
      }
    },
    {
      "cell_type": "code",
      "source": [
        "# Train YOLOv5s on COCO for 300 epochs\n",
        "python train.py --data coco.yaml --epochs 300 --weights '' --cfg yolov5s.yaml --batch-size 64\n",
        "\n",
        "# Train YOLOv5m on COCO for 300 epochs\n",
        "python train.py --data coco.yaml --epochs 300 --weights '' --cfg yolov5m.yaml --batch-size 40"
      ],
      "metadata": {
        "id": "4vonHjaPK2rG"
      },
      "execution_count": null,
      "outputs": []
    }
  ]
}